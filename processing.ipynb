{
 "cells": [
  {
   "cell_type": "code",
   "execution_count": 95,
   "id": "54889ce3",
   "metadata": {},
   "outputs": [],
   "source": [
    "import os\n",
    "import shutil\n",
    "from wand.image import Image as wi\n",
    "from timeit import default_timer"
   ]
  },
  {
   "cell_type": "markdown",
   "id": "011066b2",
   "metadata": {},
   "source": [
    "## RE-ARRANGE PDF FILE"
   ]
  },
  {
   "cell_type": "code",
   "execution_count": 161,
   "id": "657ea0e3",
   "metadata": {},
   "outputs": [],
   "source": [
    "src_files = r'D:\\ThapMuoi\\HOAI\\risc\\2023'\n",
    "dest_files = r'D:\\ThapMuoi\\risc\\2023/'\n",
    "\n",
    "for root, dirs, files in os.walk(src_files):\n",
    "    for file in files:    \n",
    "        if file.endswith('.pdf'):   \n",
    "            src_file = os.path.join(root, file)\n",
    "            dst_file = os.path.join(dest_files, file)\n",
    "            if os.path.exists(dst_file):\n",
    "            # in case of the src and dst are the same file\n",
    "                if os.path.samefile(src_file, dst_file):\n",
    "                    continue\n",
    "                os.remove(dst_file)\n",
    "            shutil.move(src_file, dst_file)"
   ]
  },
  {
   "cell_type": "markdown",
   "id": "d9cce2a2",
   "metadata": {},
   "source": [
    "Checking"
   ]
  },
  {
   "cell_type": "code",
   "execution_count": 163,
   "id": "b5475e7e",
   "metadata": {},
   "outputs": [
    {
     "name": "stdout",
     "output_type": "stream",
     "text": [
      "1690\n"
     ]
    }
   ],
   "source": [
    "src_files = r'D:\\ThapMuoi\\riscpdf/'\n",
    "i=0\n",
    "for root, dirs, files in os.walk(src_files):\n",
    "    #print(root,\"-->\",dirs,\"--\",files,\"\\n\")\n",
    "    i += len(files)\n",
    "print(i)"
   ]
  },
  {
   "cell_type": "markdown",
   "id": "0771bbd7",
   "metadata": {},
   "source": [
    "# CONVERT PDF TO JPG"
   ]
  },
  {
   "cell_type": "code",
   "execution_count": 178,
   "id": "7e2594c7",
   "metadata": {},
   "outputs": [],
   "source": [
    "def pdftojpg(src_file,dest_folder, dest_name=\" \", dpi=200): \n",
    "    \n",
    "    if not (os.path.exists(src_file)):\n",
    "        print('not available file: ', src_file)\n",
    "        return\n",
    "    \n",
    "    if not (os.path.exists(dest_folder)):\n",
    "        print('not available folder: ', dest_folder)\n",
    "        return \n",
    "\n",
    "    # load src file\n",
    "    print(\"converting \", src_file)\n",
    "    pdf = wi(filename=src_file, resolution=dpi)\n",
    "    pdfimage = pdf.convert(\"jpeg\")\n",
    "\n",
    "    # save jpg files\n",
    "    i = 0\n",
    "    for img in pdfimage.sequence:\n",
    "        i+=1\n",
    "        page = wi(image=img)\n",
    "        dest_file = dest_folder + dest_name + \" \" + str(i).zfill(3) +\".jpg\"\n",
    "        \n",
    "        #check if dest_file name is exist\n",
    "        while os.path.exists(dest_file): \n",
    "            i+=1\n",
    "            dest_file = dest_folder + dest_name + str(i).zfill(3) +\".jpg\"\n",
    "                \n",
    "        page.save(filename=dest_file)\n"
   ]
  },
  {
   "cell_type": "markdown",
   "id": "e41ce3ad",
   "metadata": {},
   "source": [
    "Testing"
   ]
  },
  {
   "cell_type": "code",
   "execution_count": 177,
   "id": "a9a34665",
   "metadata": {},
   "outputs": [
    {
     "name": "stdout",
     "output_type": "stream",
     "text": [
      "converting  D:\\ThapMuoi\\riscpdf\\2023/221227 - 32759-32651-D (23).pdf\n",
      "-- Done --\n",
      "-- Done -- 1 / 11\n",
      "converting  D:\\ThapMuoi\\riscpdf\\2023/221228 - 32776-32633-B (13).pdf\n",
      "-- Done --\n",
      "-- Done -- 2 / 11\n",
      "converting  D:\\ThapMuoi\\riscpdf\\2023/221229 - 32786-32781-B (28).pdf\n",
      "-- Done --\n",
      "-- Done -- 3 / 11\n",
      "converting  D:\\ThapMuoi\\riscpdf\\2023/221230 - 32810-31419-B (8).pdf\n",
      "-- Done --\n",
      "-- Done -- 4 / 11\n",
      "converting  D:\\ThapMuoi\\riscpdf\\2023/221231 - 32817-32168-C (4).pdf\n",
      "-- Done --\n",
      "-- Done -- 5 / 11\n",
      "converting  D:\\ThapMuoi\\riscpdf\\2023/230103 - 32818-32781-A (35).pdf\n",
      "-- Done --\n",
      "-- Done -- 6 / 11\n",
      "converting  D:\\ThapMuoi\\riscpdf\\2023/230104 - 32850 (19); (4) Rejected 32857-60.pdf\n",
      "-- Done --\n",
      "-- Done -- 7 / 11\n",
      "converting  D:\\ThapMuoi\\riscpdf\\2023/230105 - 32868-32860-B (18).pdf\n",
      "-- Done --\n",
      "-- Done -- 8 / 11\n",
      "converting  D:\\ThapMuoi\\riscpdf\\2023/230106 - 32882-32906-A (25).pdf\n",
      "-- Done --\n",
      "-- Done -- 9 / 11\n",
      "converting  D:\\ThapMuoi\\riscpdf\\2023/230107 - 32907-32761-B (27).pdf\n",
      "-- Done --\n",
      "-- Done -- 10 / 11\n",
      "converting  D:\\ThapMuoi\\riscpdf\\2023/230109 - 32931-32319-B (39).pdf\n",
      "-- Done --\n",
      "-- Done -- 11 / 11\n",
      "----- Completed -----\n"
     ]
    }
   ],
   "source": [
    "src_folder =  r'D:\\ThapMuoi\\riscpdf\\2023/'\n",
    "dest_folder = r'D:\\ThapMuoi\\riscjpg\\2023/'\n",
    "i=0\n",
    "for fname in os.listdir(src_folder):\n",
    "    if fname.endswith('.pdf'):\n",
    "        src_file = src_folder+fname\n",
    "        jpg_default = fname.split(\".\")[-2]\n",
    "        pdftojpg(src_file,dest_folder,jpg_default)\n",
    "        i+=1\n",
    "        print(\"-- Done --\" , i , '/' , len(os.listdir(src_folder)), '\\n')\n",
    "        \n",
    "print('----- Completed -----')"
   ]
  },
  {
   "cell_type": "code",
   "execution_count": null,
   "id": "9900452d",
   "metadata": {},
   "outputs": [],
   "source": []
  },
  {
   "cell_type": "markdown",
   "id": "c77f48e0",
   "metadata": {},
   "source": [
    "# TESTING-TERMINAL"
   ]
  },
  {
   "cell_type": "code",
   "execution_count": 91,
   "id": "a3613789",
   "metadata": {
    "scrolled": true
   },
   "outputs": [
    {
     "name": "stdout",
     "output_type": "stream",
     "text": [
      "file is available\n"
     ]
    }
   ],
   "source": [
    "fname = r'd:/'  #input file name to exclude extension file type\n",
    "pdfname = fname + 'risc.pdf'\n",
    "if (os.path.exists(pdfname)):\n",
    "    print('file is available')\n",
    "else:\n",
    "    print('file is not exist')"
   ]
  },
  {
   "cell_type": "code",
   "execution_count": 129,
   "id": "4a7371e6",
   "metadata": {},
   "outputs": [
    {
     "data": {
      "text/plain": [
       "'300'"
      ]
     },
     "execution_count": 129,
     "metadata": {},
     "output_type": "execute_result"
    }
   ],
   "source": [
    "my_string = 300\n",
    " # Prints 01"
   ]
  },
  {
   "cell_type": "code",
   "execution_count": 48,
   "id": "8c2c6ba5",
   "metadata": {},
   "outputs": [],
   "source": [
    "start_time = default_timer()"
   ]
  },
  {
   "cell_type": "code",
   "execution_count": 92,
   "id": "88211346",
   "metadata": {
    "scrolled": true
   },
   "outputs": [],
   "source": [
    "outputdir = 'd:/riscjpg/'"
   ]
  },
  {
   "cell_type": "code",
   "execution_count": 50,
   "id": "e8df25cb",
   "metadata": {},
   "outputs": [
    {
     "name": "stdout",
     "output_type": "stream",
     "text": [
      "21.2932012\n"
     ]
    }
   ],
   "source": [
    "duration = default_timer() - start_time\n",
    "print(duration)"
   ]
  },
  {
   "cell_type": "code",
   "execution_count": 93,
   "id": "991e05ad",
   "metadata": {},
   "outputs": [],
   "source": [
    "i=1\n",
    "outputdir = 'd:/riscjpg/'\n",
    "for img in pdfimage.sequence:\n",
    "    page = wi(image=img)\n",
    "    page.save(filename=outputdir+str(i)+\".jpg\")\n",
    "    i +=1"
   ]
  },
  {
   "cell_type": "code",
   "execution_count": 52,
   "id": "de3f6a25",
   "metadata": {},
   "outputs": [
    {
     "name": "stdout",
     "output_type": "stream",
     "text": [
      "3.187424300000089\n"
     ]
    }
   ],
   "source": [
    "duration = default_timer() - start_time - duration\n",
    "print(duration)"
   ]
  },
  {
   "cell_type": "code",
   "execution_count": 1,
   "id": "f8af7eb9",
   "metadata": {},
   "outputs": [],
   "source": [
    "import cv2"
   ]
  }
 ],
 "metadata": {
  "kernelspec": {
   "display_name": "Python 3 (ipykernel)",
   "language": "python",
   "name": "python3"
  },
  "language_info": {
   "codemirror_mode": {
    "name": "ipython",
    "version": 3
   },
   "file_extension": ".py",
   "mimetype": "text/x-python",
   "name": "python",
   "nbconvert_exporter": "python",
   "pygments_lexer": "ipython3",
   "version": "3.9.12"
  }
 },
 "nbformat": 4,
 "nbformat_minor": 5
}
