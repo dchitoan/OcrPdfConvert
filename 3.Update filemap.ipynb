{
 "cells": [
  {
   "cell_type": "code",
   "execution_count": 1,
   "id": "8912bf68",
   "metadata": {},
   "outputs": [],
   "source": [
    "import pandas as pd\n",
    "import re\n",
    "import os\n",
    "import shutil\n",
    "from dateutil.parser import parse"
   ]
  },
  {
   "cell_type": "markdown",
   "id": "667285b3",
   "metadata": {},
   "source": [
    "# LOAD MAPPING"
   ]
  },
  {
   "cell_type": "code",
   "execution_count": 2,
   "id": "245f8432",
   "metadata": {},
   "outputs": [],
   "source": [
    "mappingfname    = r'D:/tmrisc/filemap.csv',\n",
    "output_folder   = 'D:/tmrisc/output/'\n",
    "txt_folder      = 'D:/tmrisc/txt'\n",
    "\n",
    "df = pd.read_csv(mappingfname) \n",
    "\n",
    "list_remain_index = list(df[df['output'].isna()].index)\n",
    "\n",
    "for index in list_remain_index:\n",
    "    try:\n",
    "        content = open(df.loc[index,'txt'],'r').read().lower()\n",
    "        startpos = content.find('survey check'.lower())\n",
    "        if startpos<0: startpos=0\n",
    "        if startpos>500: startpos=500\n",
    "        endpos = content.find('Submitted by SCC'.lower())\n",
    "        df.loc[index,'output']=content[startpos:endpos]\n",
    "    except:\n",
    "        pass"
   ]
  },
  {
   "cell_type": "markdown",
   "id": "0fdf46c0",
   "metadata": {},
   "source": [
    "# NUMBER EXTRACT"
   ]
  },
  {
   "cell_type": "code",
   "execution_count": 3,
   "id": "a383c24c",
   "metadata": {},
   "outputs": [],
   "source": [
    "def request_no(givenstring):\n",
    "    req_patterns = [re.compile(r'r.sc.+?\\d{4,5}'),\n",
    "                    re.compile(r'request no.+?\\d{4,5}')]\n",
    "    try:\n",
    "        for req_pattern in req_patterns:\n",
    "            match = req_pattern.search(givenstring.lower())\n",
    "            if match is not None: break\n",
    "        return re.search(r'\\d{5}',match.group()).group()\n",
    "    except:\n",
    "        return pd.NA\n",
    "    \n",
    "df.loc[list_remain_index,'request_no'] = df.loc[list_remain_index,'output'].map(request_no)"
   ]
  },
  {
   "cell_type": "markdown",
   "id": "9bfce8fe",
   "metadata": {},
   "source": [
    "# DATE EXTRACT"
   ]
  },
  {
   "cell_type": "code",
   "execution_count": 4,
   "id": "710b9a6e",
   "metadata": {},
   "outputs": [],
   "source": [
    "def request_date(givenstring):\n",
    "    req_pattern = re.compile(r'.n date.+\\d{1,2}.+\\d{2,4}')\n",
    "    try:\n",
    "        match = req_pattern.search(givenstring).group()\n",
    "        reqdate = re.findall(r'[\\d\\w]+',match)\n",
    "        datestring = '{}-{}-{}'.format(reqdate[-3],reqdate[-2],reqdate[-1])\n",
    "        ret = parse(datestring, dayfirst=True, fuzzy=False)\n",
    "    except:\n",
    "        return pd.NA\n",
    "    return ret\n",
    "\n",
    "df.loc[list_remain_index,'date'] = df.loc[list_remain_index,'output'].map(request_date)\n",
    "df.date = df.date.fillna(method=\"ffill\")"
   ]
  },
  {
   "cell_type": "markdown",
   "id": "2e4a3765",
   "metadata": {},
   "source": [
    "# PLACE EXTRACT"
   ]
  },
  {
   "cell_type": "code",
   "execution_count": 5,
   "id": "d56caf1d",
   "metadata": {},
   "outputs": [],
   "source": [
    "stations =[\n",
    "    'thaodien','phuoclong','vanthanh','rachchiec','suoitien','daihocquocgia','hightech',\n",
    "    'thuduc','binhthai','anphu','tancang','depot','factory']\n",
    "\n",
    "def match_station(givenstring,_index):\n",
    "    station_patterns =  [                \n",
    "        ['tdn.{1,2}st.t.on','th.o.+d.en.+st.t.on','th.o.+di.n'],\n",
    "        ['pl.{1,2}st.t.on','ph.+c.+l.ng'],\n",
    "        ['vt.{1,2}st.t.on','v.n.+th.nh','vtp'],\n",
    "        ['rc.{1,2}st.t.on','r.ch.+chi.c','r.ch.+ch.ec'],\n",
    "        ['su.i.+tien','su.i ti.n','stt.sta'],\n",
    "        ['nu.station', 'national univer.+', 'd.i h.c qu.c gia'],\n",
    "        ['high tech','HT.+station','htp'],\n",
    "        ['th. d.c','tdc station','td station'],\n",
    "        ['binh.+thai','bt station','b.nh th.i'],\n",
    "        ['an ph.','ap station'],\n",
    "        ['t.n cang','tc station'],\n",
    "        ['depot'],\n",
    "        ['factory']\n",
    "    ]\n",
    "    for pattern in station_patterns[_index]:\n",
    "        try:\n",
    "            if re.search(pattern,givenstring)!=None: return True #match\n",
    "        except: pass\n",
    "    return False #not found any\n",
    "            \n",
    "for index,station in enumerate(stations):\n",
    "    df.loc[list_remain_index,station] = df.loc[list_remain_index,'output'].apply(\n",
    "                        lambda textstring: match_station(textstring,index)\n",
    "                    )            "
   ]
  },
  {
   "cell_type": "markdown",
   "id": "271d561d",
   "metadata": {},
   "source": [
    "# WORK EXTRACT"
   ]
  },
  {
   "cell_type": "code",
   "execution_count": 6,
   "id": "749b7d94",
   "metadata": {},
   "outputs": [],
   "source": [
    "works = ['brick','plastering','metalcladding','ceiling','epoxy','painting','stone',\n",
    "             'partition','waterproofing','topping']\n",
    "\n",
    "def match_works(givenstring,_index):\n",
    "    work_patterns =  [\n",
    "            ['brick','stiffe.+','lintel','tie.+beam'], #brick\n",
    "            ['plaster.+','render.+'],\n",
    "            ['m.tal.+w.rk','met.l.+w.rk','m.ta.+cladding','met.l.+clad.+'], #metal\n",
    "            ['susp.nd.d','suspension','cei.ing','c.i.ing','ceilling'], #ceiling\n",
    "            ['epoxy','.poxy','ep.xy'], #epoxy\n",
    "            ['paint','pa.nt','c.ng.+t.c.+s.n'], #paint          \n",
    "            ['stone.+w.rk','st.ne.+w.rk','sto.e.+w.rk','ston.+w.rk','s.one.+w.rk'], # stone\n",
    "            ['partition','part.t..n','p..tition','dry wall'], #partition\n",
    "            ['water.+fing'], #waterproofing\n",
    "            ['mortar','to..ing','v.a b. m.t'] #topping\n",
    "            ]\n",
    "    for pattern in work_patterns[_index]:\n",
    "        try:\n",
    "            if re.search(pattern,givenstring)!=None: return True\n",
    "        except: pass\n",
    "    return False\n",
    "\n",
    "for index,work in enumerate(works):\n",
    "    df.loc[list_remain_index,work] = df.loc[list_remain_index,'output'].apply(\n",
    "                        lambda textstring: match_works(textstring,index)\n",
    "                    ) "
   ]
  },
  {
   "cell_type": "markdown",
   "id": "00902709",
   "metadata": {},
   "source": [
    "# OS SCRIPT"
   ]
  },
  {
   "cell_type": "code",
   "execution_count": 7,
   "id": "0909d9f9",
   "metadata": {},
   "outputs": [],
   "source": [
    "def empty_folder(folder):\n",
    "    for filename in os.listdir(folder):\n",
    "        file_path = os.path.join(folder, filename)\n",
    "        try:\n",
    "            if os.path.isfile(file_path) or os.path.islink(file_path):\n",
    "                os.unlink(file_path)\n",
    "            elif os.path.isdir(file_path):\n",
    "                shutil.rmtree(file_path)\n",
    "        except Exception as e:\n",
    "            print('Failed to delete %s. Reason: %s' % (file_path, e))"
   ]
  },
  {
   "cell_type": "code",
   "execution_count": 8,
   "id": "236ee935",
   "metadata": {},
   "outputs": [],
   "source": [
    "df.to_csv('D:/tmrisc/filemap.csv')"
   ]
  },
  {
   "cell_type": "markdown",
   "id": "82bf592a",
   "metadata": {},
   "source": [
    "# COMMAND"
   ]
  },
  {
   "cell_type": "code",
   "execution_count": 76,
   "id": "a20e3d66",
   "metadata": {},
   "outputs": [],
   "source": [
    "seach_df = df[df['thaodien']*df['plastering']]\n",
    "search_output_folder   = 'D:/tmrisc/searchs/'\n",
    "empty_folder(search_output_folder)\n",
    "#################################################################\n",
    "for jpg_filename in seach_df['jpg']:\n",
    "    shutil.copy(jpg_filename,search_output_folder)"
   ]
  },
  {
   "cell_type": "code",
   "execution_count": 84,
   "id": "b753bed7",
   "metadata": {},
   "outputs": [],
   "source": [
    "seach_df = df[df['request_no']=='32934']\n",
    "search_output_folder   = 'D:/tmrisc/searchs/'\n",
    "empty_folder(search_output_folder)\n",
    "#################################################################\n",
    "for jpg_filename in seach_df['jpg']:\n",
    "    shutil.copy(jpg_filename,search_output_folder)"
   ]
  }
 ],
 "metadata": {
  "kernelspec": {
   "display_name": "Python 3 (ipykernel)",
   "language": "python",
   "name": "python3"
  },
  "language_info": {
   "codemirror_mode": {
    "name": "ipython",
    "version": 3
   },
   "file_extension": ".py",
   "mimetype": "text/x-python",
   "name": "python",
   "nbconvert_exporter": "python",
   "pygments_lexer": "ipython3",
   "version": "3.9.12"
  }
 },
 "nbformat": 4,
 "nbformat_minor": 5
}
