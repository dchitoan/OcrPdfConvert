{
 "cells": [
  {
   "cell_type": "code",
   "execution_count": 1,
   "id": "63cdfb71",
   "metadata": {},
   "outputs": [],
   "source": [
    "from datetime import datetime,timedelta\n",
    "import time as time\n",
    "import os\n",
    "from IPython.display import clear_output"
   ]
  },
  {
   "cell_type": "code",
   "execution_count": 32,
   "id": "a354b48f",
   "metadata": {
    "scrolled": false
   },
   "outputs": [
    {
     "data": {
      "text/plain": [
       "datetime.datetime(2023, 3, 9, 12, 27, 37, 929165)"
      ]
     },
     "execution_count": 32,
     "metadata": {},
     "output_type": "execute_result"
    }
   ],
   "source": [
    "datetime.now()+timedelta(hours=1)"
   ]
  },
  {
   "cell_type": "code",
   "execution_count": 3,
   "id": "6754d263",
   "metadata": {},
   "outputs": [],
   "source": [
    "os.rename('d:/test.txt', 'd:/c.txt')"
   ]
  },
  {
   "cell_type": "code",
   "execution_count": 11,
   "id": "5a81dc18",
   "metadata": {},
   "outputs": [
    {
     "name": "stdout",
     "output_type": "stream",
     "text": [
      "Directory 'GeeksForGeeks' created\n"
     ]
    },
    {
     "ename": "FileExistsError",
     "evalue": "[WinError 183] Cannot create a file when that file already exists: 'd:/ihritik'",
     "output_type": "error",
     "traceback": [
      "\u001b[1;31m---------------------------------------------------------------------------\u001b[0m",
      "\u001b[1;31mFileExistsError\u001b[0m                           Traceback (most recent call last)",
      "Input \u001b[1;32mIn [11]\u001b[0m, in \u001b[0;36m<cell line: 31>\u001b[1;34m()\u001b[0m\n\u001b[0;32m     25\u001b[0m path \u001b[38;5;241m=\u001b[39m os\u001b[38;5;241m.\u001b[39mpath\u001b[38;5;241m.\u001b[39mjoin(parent_dir, directory)\n\u001b[0;32m     27\u001b[0m \u001b[38;5;66;03m# Create the directory\u001b[39;00m\n\u001b[0;32m     28\u001b[0m \u001b[38;5;66;03m# 'GeeksForGeeks' in\u001b[39;00m\n\u001b[0;32m     29\u001b[0m \u001b[38;5;66;03m# '/home / User / Documents'\u001b[39;00m\n\u001b[0;32m     30\u001b[0m \u001b[38;5;66;03m# with mode 0o666\u001b[39;00m\n\u001b[1;32m---> 31\u001b[0m \u001b[43mos\u001b[49m\u001b[38;5;241;43m.\u001b[39;49m\u001b[43mmkdir\u001b[49m\u001b[43m(\u001b[49m\u001b[43mpath\u001b[49m\u001b[43m,\u001b[49m\u001b[43m \u001b[49m\u001b[43mmode\u001b[49m\u001b[43m)\u001b[49m\n\u001b[0;32m     32\u001b[0m \u001b[38;5;28mprint\u001b[39m(\u001b[38;5;124m\"\u001b[39m\u001b[38;5;124mDirectory \u001b[39m\u001b[38;5;124m'\u001b[39m\u001b[38;5;132;01m%s\u001b[39;00m\u001b[38;5;124m'\u001b[39m\u001b[38;5;124m created\u001b[39m\u001b[38;5;124m\"\u001b[39m \u001b[38;5;241m%\u001b[39mdirectory)\n",
      "\u001b[1;31mFileExistsError\u001b[0m: [WinError 183] Cannot create a file when that file already exists: 'd:/ihritik'"
     ]
    }
   ],
   "source": [
    "# Directory\n",
    "directory = \"GeeksForGeeks\"\n",
    "\n",
    "# Parent Directory path\n",
    "parent_dir = \"d:/\"\n",
    "\n",
    "# Path\n",
    "path = os.path.join(parent_dir, directory)\n",
    "\n",
    "# Create the directory\n",
    "# 'GeeksForGeeks' in\n",
    "# '/home / User / Documents'\n",
    "os.mkdir(path)\n",
    "print(\"Directory '%s' created\" %directory)\n"
   ]
  },
  {
   "cell_type": "code",
   "execution_count": 4,
   "id": "23be6e87",
   "metadata": {},
   "outputs": [],
   "source": [
    "# Python program to explain os.mkdir() method\n",
    "\t\n",
    "# path\n",
    "path = r'D:/tmrisc/output/'\n",
    "folders = ['2018','2019','2020','2021','2022','2023']\n",
    "# Create the directory\n",
    "# 'GeeksForGeeks' in\n",
    "# '/home/User/Documents'\n",
    "for folder in folders:\n",
    "    try:\n",
    "        os.mkdir(path+folder)\n",
    "    except OSError as error:\n",
    "        print(error)\t\n"
   ]
  },
  {
   "cell_type": "code",
   "execution_count": null,
   "id": "6c4b7aa2",
   "metadata": {},
   "outputs": [],
   "source": [
    "D:\\tmrisc\\output"
   ]
  }
 ],
 "metadata": {
  "kernelspec": {
   "display_name": "Python 3 (ipykernel)",
   "language": "python",
   "name": "python3"
  },
  "language_info": {
   "codemirror_mode": {
    "name": "ipython",
    "version": 3
   },
   "file_extension": ".py",
   "mimetype": "text/x-python",
   "name": "python",
   "nbconvert_exporter": "python",
   "pygments_lexer": "ipython3",
   "version": "3.9.12"
  }
 },
 "nbformat": 4,
 "nbformat_minor": 5
}
