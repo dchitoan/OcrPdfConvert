{
 "cells": [
  {
   "cell_type": "code",
   "execution_count": 1,
   "id": "8912bf68",
   "metadata": {},
   "outputs": [],
   "source": [
    "import pandas as pd\n",
    "import re\n",
    "import os\n",
    "import shutil\n",
    "from dateutil.parser import parse"
   ]
  },
  {
   "cell_type": "code",
   "execution_count": 3,
   "id": "245f8432",
   "metadata": {},
   "outputs": [],
   "source": [
    "# Load Map File\n",
    "mappingfname    = 'D:/tmrisc/filemap.csv'\n",
    "df = pd.read_csv(mappingfname) "
   ]
  },
  {
   "cell_type": "markdown",
   "id": "a7bcfd8f",
   "metadata": {},
   "source": [
    "stations =[\n",
    "    'thaodien','phuoclong','vanthanh','rachchiec','suoitien','daihocquocgia','hightech',\n",
    "    'thuduc','binhthai','anphu','tancang','depot','factory']"
   ]
  },
  {
   "cell_type": "markdown",
   "id": "0f1c75c6",
   "metadata": {},
   "source": [
    "works = ['brick','plastering','metalcladding','ceiling','epoxy','painting','stone',\n",
    "             'partition','waterproofing','topping']"
   ]
  },
  {
   "cell_type": "markdown",
   "id": "00902709",
   "metadata": {},
   "source": [
    "# OS SCRIPT"
   ]
  },
  {
   "cell_type": "code",
   "execution_count": 4,
   "id": "0909d9f9",
   "metadata": {},
   "outputs": [],
   "source": [
    "def empty_folder(folder):\n",
    "    for filename in os.listdir(folder):\n",
    "        file_path = os.path.join(folder, filename)\n",
    "        try:\n",
    "            if os.path.isfile(file_path) or os.path.islink(file_path):\n",
    "                os.unlink(file_path)\n",
    "            elif os.path.isdir(file_path):\n",
    "                shutil.rmtree(file_path)\n",
    "        except Exception as e:\n",
    "            print('Failed to delete %s. Reason: %s' % (file_path, e))"
   ]
  },
  {
   "cell_type": "markdown",
   "id": "2d762a8f",
   "metadata": {},
   "source": [
    "# ADDITIONAL SEARCH"
   ]
  },
  {
   "cell_type": "code",
   "execution_count": 6,
   "id": "b6786462",
   "metadata": {},
   "outputs": [],
   "source": [
    "def add_search(givenstring, pattern):\n",
    "    try:\n",
    "        if re.search(pattern,givenstring)!=None: return True #match \n",
    "    except: pass\n",
    "    return False"
   ]
  },
  {
   "cell_type": "markdown",
   "id": "82bf592a",
   "metadata": {},
   "source": [
    "# COMMAND"
   ]
  },
  {
   "cell_type": "code",
   "execution_count": 57,
   "id": "a20e3d66",
   "metadata": {},
   "outputs": [
    {
     "name": "stdout",
     "output_type": "stream",
     "text": [
      "total 43 files\n"
     ]
    }
   ],
   "source": [
    "# Seach by works and places\n",
    "seach_df = df[df['phuoclong']*df['stone']]\n",
    "\n",
    "#addtional search\n",
    "re_pattern = re.compile(r'')\n",
    "seach_df = seach_df[seach_df['output'].apply(\n",
    "                        lambda textstring: add_search(textstring,re_pattern)\n",
    "                        )         \n",
    "                   ]\n",
    "\n",
    "search_output_folder   = 'D:/tmrisc/searchs/'\n",
    "empty_folder(search_output_folder)\n",
    "#################################################################\n",
    "for jpg_filename in seach_df['jpg']:\n",
    "    shutil.copy(jpg_filename,search_output_folder)\n",
    "print('total {} files'.format(seach_df['jpg'].count()))"
   ]
  },
  {
   "cell_type": "code",
   "execution_count": 84,
   "id": "b753bed7",
   "metadata": {},
   "outputs": [],
   "source": [
    "# Seach by request no\n",
    "seach_df = df[df['request_no']=='32934']\n",
    "search_output_folder   = 'D:/tmrisc/searchs/'\n",
    "empty_folder(search_output_folder)\n",
    "#################################################################\n",
    "for jpg_filename in seach_df['jpg']:\n",
    "    shutil.copy(jpg_filename,search_output_folder)\n",
    "print('total {} files'.format(seach_df['jpg'].count()))"
   ]
  }
 ],
 "metadata": {
  "kernelspec": {
   "display_name": "Python 3 (ipykernel)",
   "language": "python",
   "name": "python3"
  },
  "language_info": {
   "codemirror_mode": {
    "name": "ipython",
    "version": 3
   },
   "file_extension": ".py",
   "mimetype": "text/x-python",
   "name": "python",
   "nbconvert_exporter": "python",
   "pygments_lexer": "ipython3",
   "version": "3.9.12"
  }
 },
 "nbformat": 4,
 "nbformat_minor": 5
}
