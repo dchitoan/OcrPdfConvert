{
 "cells": [
  {
   "cell_type": "code",
   "execution_count": 95,
   "id": "54889ce3",
   "metadata": {},
   "outputs": [],
   "source": [
    "import os\n",
    "import shutil\n",
    "from timeit import default_timer"
   ]
  },
  {
   "cell_type": "markdown",
   "id": "6be23794",
   "metadata": {},
   "source": [
    "## RE-ARRANGE PDF FILE"
   ]
  },
  {
   "cell_type": "code",
   "execution_count": 161,
   "id": "4f6c905b",
   "metadata": {},
   "outputs": [],
   "source": [
    "src_files = r'D:\\ThapMuoi\\HOAI\\risc\\2023'\n",
    "dest_files = r'D:\\ThapMuoi\\risc\\2023/'\n",
    "\n",
    "for root, dirs, files in os.walk(src_files):\n",
    "    for file in files:    \n",
    "        if file.endswith('.pdf'):   \n",
    "            src_file = os.path.join(root, file)\n",
    "            dst_file = os.path.join(dest_files, file)\n",
    "            if os.path.exists(dst_file):\n",
    "            # in case of the src and dst are the same file\n",
    "                if os.path.samefile(src_file, dst_file):\n",
    "                    continue\n",
    "                os.remove(dst_file)\n",
    "            shutil.move(src_file, dst_file)"
   ]
  },
  {
   "cell_type": "markdown",
   "id": "eae89c0a",
   "metadata": {},
   "source": [
    "Checking"
   ]
  },
  {
   "cell_type": "code",
   "execution_count": 163,
   "id": "675f7d70",
   "metadata": {},
   "outputs": [
    {
     "name": "stdout",
     "output_type": "stream",
     "text": [
      "1690\n"
     ]
    }
   ],
   "source": [
    "src_files = r'D:\\ThapMuoi\\riscpdf/'\n",
    "i=0\n",
    "for root, dirs, files in os.walk(src_files):\n",
    "    #print(root,\"-->\",dirs,\"--\",files,\"\\n\")\n",
    "    i += len(files)\n",
    "print(i)"
   ]
  },
  {
   "cell_type": "code",
   "execution_count": null,
   "id": "55e4ee3a",
   "metadata": {},
   "outputs": [],
   "source": []
  }
 ],
 "metadata": {
  "kernelspec": {
   "display_name": "Python 3 (ipykernel)",
   "language": "python",
   "name": "python3"
  },
  "language_info": {
   "codemirror_mode": {
    "name": "ipython",
    "version": 3
   },
   "file_extension": ".py",
   "mimetype": "text/x-python",
   "name": "python",
   "nbconvert_exporter": "python",
   "pygments_lexer": "ipython3",
   "version": "3.9.12"
  }
 },
 "nbformat": 4,
 "nbformat_minor": 5
}
