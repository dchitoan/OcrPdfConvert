{
 "cells": [
  {
   "cell_type": "code",
   "execution_count": 1,
   "id": "cd5c05ac",
   "metadata": {},
   "outputs": [],
   "source": [
    "import os\n",
    "import shutil\n",
    "import pandas as pd\n",
    "import re"
   ]
  },
  {
   "cell_type": "code",
   "execution_count": 2,
   "id": "b903cc9e",
   "metadata": {},
   "outputs": [],
   "source": [
    "def empty_folder(folder):\n",
    "    for filename in os.listdir(folder):\n",
    "        file_path = os.path.join(folder, filename)\n",
    "        try:\n",
    "            if os.path.isfile(file_path) or os.path.islink(file_path):\n",
    "                os.unlink(file_path)\n",
    "            elif os.path.isdir(file_path):\n",
    "                shutil.rmtree(file_path)\n",
    "        except Exception as e:\n",
    "            print('Failed to delete %s. Reason: %s' % (file_path, e))"
   ]
  },
  {
   "cell_type": "code",
   "execution_count": 3,
   "id": "d941f799",
   "metadata": {},
   "outputs": [],
   "source": [
    "def found_reqno(givenstring):\n",
    "    req_pattern = re.compile(r'cp.+art.+r.sc.+?\\d{5}')\n",
    "    try:\n",
    "        match = req_pattern.search(givenstring.lower()).group()\n",
    "        return re.search(r'\\d{5}',match).group()\n",
    "    except:\n",
    "        return 'unknown'"
   ]
  },
  {
   "cell_type": "code",
   "execution_count": 4,
   "id": "ddd3f331",
   "metadata": {},
   "outputs": [],
   "source": [
    "def found_places(givenstring):\n",
    "    stations =[\n",
    "        'thaodien','phuoclong','vanthanh','rachchiec',\n",
    "        'suoitien','daihocquocgia','hightech','thuduc',\n",
    "        'binhthai','anphu','tancang','depot',\n",
    "        'factory'\n",
    "    ]\n",
    "    patterns =  [                \n",
    "        ['tdn.{1,2}st.t.on','th.o.+d.en.+st.t.on','th.o.+di.n'],\n",
    "        ['pl.{1,2}st.t.on','ph.+c.+l.ng'],\n",
    "        ['vt.{1,2}st.t.on','v.n.+th.nh','vtp'],\n",
    "        ['rc.{1,2}st.t.on','r.ch.+chi.c','r.ch.+ch.ec'],\n",
    "        ['su.i.+tien','su.i ti.n','stt.sta'],\n",
    "        ['nu.station', 'national univer.+', 'd.i h.c qu.c gia'],\n",
    "        ['high tech','HT.+station','htp'],\n",
    "        ['th. d.c','tdc station','td station'],\n",
    "        ['binh.+thai','bt station','b.nh th.i'],\n",
    "        ['an ph.','ap station'],\n",
    "        ['t.n cang','tc station'],\n",
    "        ['depot'],\n",
    "        ['factory']\n",
    "    ]\n",
    "    result = set()\n",
    "    for i in range(len(patterns)):\n",
    "        for pattern in patterns[i]:\n",
    "            try:\n",
    "                if re.search(pattern,givenstring)!=None:\n",
    "                    #print(stations[i]+'---'+pattern)\n",
    "                    result.add(stations[i])\n",
    "                    break\n",
    "            except:\n",
    "                pass\n",
    "            \n",
    "    if bool(result): return result\n",
    "    return set('unknown place')"
   ]
  },
  {
   "cell_type": "code",
   "execution_count": 5,
   "id": "c1d55faf",
   "metadata": {},
   "outputs": [],
   "source": [
    "def found_works(givenstring):\n",
    "    works = ['brick','plastering','metalcladding','ceiling','epoxy','painting','stone',\n",
    "             'partition','waterproofing','topping']\n",
    "    patterns =  [\n",
    "            ['brick','stiffe.+','lintel','tie.+beam'], #brick\n",
    "            ['plaster.+','render.+'],\n",
    "            ['m.tal.+w.rk','met.l.+w.rk','m.ta.+cladding','met.l.+clad.+'], #metal\n",
    "            ['susp.nd.d','suspension','cei.ing','c.i.ing','ceilling'], #ceiling\n",
    "            ['epoxy','.poxy','ep.xy'], #epoxy\n",
    "            ['paint','pa.nt','c.ng.+t.c.+s.n'], #paint          \n",
    "            ['stone.+w.rk','st.ne.+w.rk','sto.e.+w.rk','ston.+w.rk','s.one.+w.rk'], # stone\n",
    "            ['partition','part.t..n','p..tition','dry wall'], #partition\n",
    "            ['water.+fing'], #waterproofing\n",
    "            ['topping','concrete','mortar','to..ing']\n",
    "            ]\n",
    "    result = set()\n",
    "    for i in range(len(works)):\n",
    "        for pattern in patterns[i]:\n",
    "            try:\n",
    "                if re.search(pattern,givenstring)!=None:\n",
    "                    result.add(works[i])\n",
    "                    break\n",
    "            except:\n",
    "                pass\n",
    "    \n",
    "    if bool(result): return result\n",
    "    return set('unknown work')"
   ]
  },
  {
   "cell_type": "code",
   "execution_count": 6,
   "id": "03260bda",
   "metadata": {},
   "outputs": [],
   "source": [
    "def match_risc(txtcontent,reqno_key='', searched_place='', searched_work=''):\n",
    "    if reqno_key != '': return found_reqno(txtcontent) == reqno_key\n",
    "    \n",
    "    result = True\n",
    "    if bool(searched_place): \n",
    "        places = found_places(txtcontent) \n",
    "        result = result and (searched_place in places) \n",
    "        \n",
    "    if bool(searched_work): \n",
    "        works = found_works(txtcontent) \n",
    "        result = result and (searched_work in works)\n",
    "    \n",
    "    return result    "
   ]
  },
  {
   "cell_type": "code",
   "execution_count": 7,
   "id": "7718add4",
   "metadata": {},
   "outputs": [],
   "source": [
    "########### CONTROL BOARD ########################################\n",
    "mappingfnames    = [\n",
    "    'D:/tmrisc/2021 filemapping.csv',\n",
    "    'D:/tmrisc/2022 filemapping.csv',\n",
    "    'D:/tmrisc/2023 filemapping.csv',\n",
    "]\n",
    "search_output_folder   = 'D:/tmrisc/searchs/'"
   ]
  },
  {
   "cell_type": "code",
   "execution_count": 8,
   "id": "4bcdfa94",
   "metadata": {},
   "outputs": [],
   "source": [
    "###### works = ['brick','plastering','metalcladding','ceiling','epoxy','painting','stone',\n",
    "#         'partition','waterproofing','topping']\n",
    "request_no = '23929'\n",
    "work = ''\n",
    "place = ''\n",
    "#################################################################\n",
    "empty_folder(search_output_folder)\n",
    "for mappingfname in mappingfnames:\n",
    "    df = pd.read_csv(mappingfname)\n",
    "    for index in df['txt'].index:\n",
    "        file = df.loc[index,'txt']\n",
    "        content = open(file).read().lower()\n",
    "        startpos = content.find('REQUEST FOR INSPECTION AND SURVEY CHECK (RISC)'.lower())\n",
    "        endpos = content.find('Submitted by SCC'.lower())\n",
    "        content = content[startpos:endpos]\n",
    "        if match_risc(content,\n",
    "                      reqno_key=request_no,\n",
    "                      searched_place=place,\n",
    "                      searched_work=work):\n",
    "            shutil.copy(df.loc[index,'jpg'],search_output_folder)"
   ]
  },
  {
   "cell_type": "code",
   "execution_count": null,
   "id": "1c5700eb",
   "metadata": {},
   "outputs": [],
   "source": []
  }
 ],
 "metadata": {
  "kernelspec": {
   "display_name": "Python 3 (ipykernel)",
   "language": "python",
   "name": "python3"
  },
  "language_info": {
   "codemirror_mode": {
    "name": "ipython",
    "version": 3
   },
   "file_extension": ".py",
   "mimetype": "text/x-python",
   "name": "python",
   "nbconvert_exporter": "python",
   "pygments_lexer": "ipython3",
   "version": "3.9.12"
  }
 },
 "nbformat": 4,
 "nbformat_minor": 5
}
