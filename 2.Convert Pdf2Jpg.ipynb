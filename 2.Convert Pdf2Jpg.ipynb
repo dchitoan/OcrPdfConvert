{
 "cells": [
  {
   "cell_type": "code",
   "execution_count": 8,
   "id": "54889ce3",
   "metadata": {
    "scrolled": true
   },
   "outputs": [],
   "source": [
    "import os\n",
    "import shutil\n",
    "from timeit import default_timer as time\n",
    "import sys\n",
    "from IPython.display import clear_output\n",
    "\n",
    "from wand.image import Image as wi\n",
    "import pandas as pd"
   ]
  },
  {
   "cell_type": "code",
   "execution_count": 9,
   "id": "8c5960a8",
   "metadata": {},
   "outputs": [],
   "source": [
    "def update_progress(progress,start_time):\n",
    "    bar_length = 50\n",
    "    \n",
    "    if isinstance(progress, int):\n",
    "        progress = float(progress)\n",
    "    if not isinstance(progress, float):\n",
    "        progress = 0\n",
    "        \n",
    "    if progress < 0:\n",
    "        progress = 0\n",
    "    if progress >= 1:\n",
    "        progress = 1\n",
    "\n",
    "    block = int(round(bar_length * progress))\n",
    "    clear_output(wait = True)\n",
    "    text = \"Progress: [{0}] {1:.1f}%\".format( \"#\" * block + \"-\" * (bar_length - block), progress * 100)\n",
    "    print(text)\n",
    "    print('Elapse time = ', int((time()-start_time)/60), ' min')"
   ]
  },
  {
   "cell_type": "markdown",
   "id": "ec39fa2d",
   "metadata": {},
   "source": [
    "# CONVERT PDF TO JPG"
   ]
  },
  {
   "cell_type": "code",
   "execution_count": 11,
   "id": "c7061865",
   "metadata": {
    "scrolled": true
   },
   "outputs": [],
   "source": [
    "def pdftojpg(src_filename,dest_folder, dest_nameprefix=\" \", dpi=300, start_fileindex=0): \n",
    "# function to convert pdf to jpg and return list of jpg file name    \n",
    "    #initiate\n",
    "    new_jpgfilenames = []\n",
    "    \n",
    "    # check available of source file \n",
    "    if not (os.path.exists(src_filename)):\n",
    "        print('not available file: ', src_filename)\n",
    "        return new_jpgfilenames\n",
    "    \n",
    "    #check available of desition folder\n",
    "    if not (os.path.exists(dest_folder)):\n",
    "        print('not available folder: ', dest_folder)\n",
    "        return new_jpgfilenames\n",
    "\n",
    "    # load src file\n",
    "    pdf = wi(filename=src_filename, resolution=dpi)\n",
    "    pdfimage = pdf.convert(\"jpeg\")\n",
    "\n",
    "    # naming rules\n",
    "    # newname = dest_folder + \"/\" + dest_nameprefix + \" \" + new_file_number +\".jpg\"\n",
    "    i = start_fileindex # the last file_number index\n",
    "            \n",
    "    # start export jpg files\n",
    "    for img in pdfimage.sequence:\n",
    "\n",
    "        # spawn new file-name\n",
    "        dest_filename = dest_folder + \"/\"  + dest_nameprefix + \" \" + str(i).zfill(5) +\".jpg\"\n",
    "        while os.path.exists(dest_filename): #check if dest_file name is exist\n",
    "            i+=1\n",
    "            dest_filename = dest_folder + \"/\" + dest_nameprefix + \" \" + str(i).zfill(3) +\".jpg\"        \n",
    "        \n",
    "        #save new file\n",
    "        page = wi(image=img)\n",
    "        page.save(filename=dest_filename)      \n",
    "        \n",
    "        #append new file to new_jpgfilenames\n",
    "        new_jpgfilenames.append(dest_filename)\n",
    "        \n",
    "        # new-index\n",
    "        i += 1 \n",
    "        \n",
    "    return new_jpgfilenames"
   ]
  },
  {
   "cell_type": "code",
   "execution_count": 12,
   "id": "e4d454e0",
   "metadata": {
    "scrolled": false
   },
   "outputs": [],
   "source": [
    "def is_converted(src_filename):\n",
    "    return (filemapping['pdf'].eq(src_filename)).any()\n",
    "\n",
    "def bulk_pdftojpg(src_folder,dest_folder, jpg_nameprefix='pdftojpg'):\n",
    "    successconvertfilename = []\n",
    "    failconvertfilename = []\n",
    "    filenamemap = pd.DataFrame(columns=['pdf','jpg'])\n",
    "    mapto_pdfunc = lambda scr_name,dest_list: pd.DataFrame(list(zip([scr_name]*len(dest_list), dest_list)),columns=['pdf','jpg'])\n",
    "\n",
    "    i=0\n",
    "    start_time = time()\n",
    "    for fname in os.listdir(src_folder):\n",
    "        if fname.endswith('.pdf'):\n",
    "            i+=1        \n",
    "            src_filename = src_folder+\"/\"+fname\n",
    "            if is_converted(src_filename): break\n",
    "\n",
    "            # export pdf to jpg files\n",
    "            print('converting file: ', src_filename)\n",
    "            exportedfilenames = pdftojpg(src_filename,\n",
    "                                         dest_folder,\n",
    "                                         jpg_nameprefix,\n",
    "                                         start_fileindex = len(os.listdir(dest_folder))+1\n",
    "                                        )\n",
    "\n",
    "            # check the converting\n",
    "            if len(exportedfilenames)==0: # exportedfilenames is empty list\n",
    "                #convert fail\n",
    "                failconvertfilename.append(src_filename) #add to falure list\n",
    "            else:\n",
    "                #convert suceed\n",
    "                successconvertfilename.append(src_filename) # add to suceed list\n",
    "                 # add to exported-filenames to pandas_file_name_mapping\n",
    "                filenamemap=pd.concat([filenamemap,mapto_pdfunc(src_filename,exportedfilenames)], \n",
    "                                      ignore_index=True)\n",
    "            \n",
    "            #update % progress\n",
    "            update_progress(i/len(os.listdir(src_folder)),start_time)\n",
    "\n",
    "    if len(successconvertfilename)==0: \n",
    "        print('no file was converted')\n",
    "    else:\n",
    "        pass\n",
    "        #print('succeed converted files:')\n",
    "        #print(successconvertfilename)\n",
    "\n",
    "    if len(failconvertfilename)>0: \n",
    "        print('failure to convert files as below list:')\n",
    "        print(failconvertfilename)\n",
    "\n",
    "    return filenamemap"
   ]
  },
  {
   "cell_type": "markdown",
   "id": "05e20874",
   "metadata": {},
   "source": [
    "## MAIN"
   ]
  },
  {
   "cell_type": "code",
   "execution_count": 17,
   "id": "781a8a04",
   "metadata": {},
   "outputs": [
    {
     "name": "stdout",
     "output_type": "stream",
     "text": [
      "['2020 filemapping.csv']\n",
      "no file was converted\n",
      "['2019 filemapping.csv']\n",
      "no file was converted\n",
      "['2018 filemapping.csv']\n",
      "no file was converted\n"
     ]
    }
   ],
   "source": [
    "#src_folders =  ['D:/tmrisc/pdf/2020','D:/tmrisc/pdf/2019','D:/tmrisc/pdf/2018']\n",
    "#dest_folders = ['D:/tmrisc/jpg/2020','D:/tmrisc/jpg/2019','D:/tmrisc/jpg/2018']\n",
    "map_filename = 'D:/tmrisc/map/filemapping.csv'\n",
    "#load existing mapping\n",
    "if (os.path.exists(map_filename)):\n",
    "    map_pdfile = pd.read_csv(map_filename)\n",
    "else: \n",
    "    map_pdfile = pd.DataFrame(columns=['pdf','jpg'])\n",
    "    \n",
    "for src_folder,dest_folder in zip(src_folders,dest_folders):\n",
    "    jpg_nameprefix = dest_folder[-4:]\n",
    "    #export pdf to jpg\n",
    "    map_pdfile = pd.concat([map_pdfile,bulk_pdftojpg(src_folder,dest_folder,jpg_nameprefix)],\n",
    "                            ignore_index=True\n",
    "                            )\n",
    "    \n",
    "#write new mapping\n",
    "map_pdfile.to_csv(map_filename,index=False)"
   ]
  }
 ],
 "metadata": {
  "kernelspec": {
   "display_name": "Python 3 (ipykernel)",
   "language": "python",
   "name": "python3"
  },
  "language_info": {
   "codemirror_mode": {
    "name": "ipython",
    "version": 3
   },
   "file_extension": ".py",
   "mimetype": "text/x-python",
   "name": "python",
   "nbconvert_exporter": "python",
   "pygments_lexer": "ipython3",
   "version": "3.9.12"
  }
 },
 "nbformat": 4,
 "nbformat_minor": 5
}
